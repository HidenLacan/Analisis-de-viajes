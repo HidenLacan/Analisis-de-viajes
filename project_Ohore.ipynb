{
 "cells": [
  {
   "cell_type": "markdown",
   "metadata": {},
   "source": [
    "\n",
    "### Descripcion \n",
    "Estás trabajando como analista para Zuber, una nueva empresa de viajes compartidos que se está lanzando en Chicago. Tu tarea es encontrar patrones en la información disponible. Quieres comprender las preferencias de los pasajeros y el impacto de los factores externos en los viajes.\n",
    "Estudiarás una base de datos, analizarás los datos de los competidores y probarás una hipótesis sobre el impacto del clima en la frecuencia de los viajes.\n",
    "Además de los datos que recuperaste en las tareas anteriores te han dado archivos para analizar respecto a los viajes que se han realizado para determinar la viabilidad de la hipotesís sugerida."
   ]
  },
  {
   "cell_type": "markdown",
   "metadata": {},
   "source": [
    "### Indice \n",
    "\n",
    "- [Análisis exploratorio de datos](#Análisis-exploratorio-de-datos)\n",
    "- [Prueba de hipótesis (Python)](#Prueba-de-hipótesis-(Python))\n",
    "- [Conclusión General](#Conclusión-General)\n",
    "\n"
   ]
  },
  {
   "cell_type": "markdown",
   "metadata": {},
   "source": [
    "### Descripcion de los datos\n",
    "/datasets/project_sql_result_01.csv. contiene los siguientes datos:\n",
    "\n",
    "<li>company_name: nombre de la empresa de taxis</li>\n",
    "\n",
    "<li>trips_amount: el número de viajes de cada compañía de taxis el 15 y 16 de noviembre de 2017.\n",
    "</li> \n",
    "\n",
    "/datasets/project_sql_result_04.csv. contiene los siguientes datos:\n",
    "\n",
    "<li>dropoff_location_name: barrios de Chicago donde finalizaron los viajes</li>\n",
    "\n",
    "<li>average_trips: el promedio de viajes que terminaron en cada barrio en noviembre de 2017.</li>\n",
    "\n",
    "/datasets/project_sql_result_07.csv  contiene los siguientes datos:\n",
    "\n",
    "<li>start_ts: fecha y hora de la recogida</li>\n",
    "<li>weather_conditions: condiciones climáticas en el momento en el que comenzó el viaje</li>\n",
    "<li>duration_seconds: duración del viaje en segundos</li>"
   ]
  },
  {
   "cell_type": "markdown",
   "metadata": {},
   "source": [
    " ### Análisis exploratorio de datos"
   ]
  },
  {
   "cell_type": "code",
   "execution_count": 9,
   "metadata": {},
   "outputs": [],
   "source": [
    "\n",
    "import pandas as pd \n",
    "import matplotlib.pyplot as plt\n",
    "import scipy.stats as stats\n",
    "import numpy as np\n",
    "from scipy import stats"
   ]
  },
  {
   "cell_type": "markdown",
   "metadata": {},
   "source": [
    "Se cargan los datos para el análisis"
   ]
  },
  {
   "cell_type": "code",
   "execution_count": 10,
   "metadata": {},
   "outputs": [],
   "source": [
    "df_result1 = pd.read_csv('/datasets/project_sql_result_01.csv')\n",
    "df_result4 = pd.read_csv('/datasets/project_sql_result_04.csv')\n",
    "df_result7 = pd.read_csv('/datasets/project_sql_result_07.csv')"
   ]
  },
  {
   "cell_type": "markdown",
   "metadata": {},
   "source": [
    "Se verifican los datos, por medio del conteo de los nulos y el cambio de algún tipo de dato, así mismo se enriquecen para corroborar la información respecto a ellos."
   ]
  },
  {
   "cell_type": "markdown",
   "metadata": {},
   "source": [
    "<h2>Datos / viajes por empresa</h2>"
   ]
  },
  {
   "cell_type": "code",
   "execution_count": 11,
   "metadata": {},
   "outputs": [
    {
     "name": "stdout",
     "output_type": "stream",
     "text": [
      "<class 'pandas.core.frame.DataFrame'>\n",
      "RangeIndex: 64 entries, 0 to 63\n",
      "Data columns (total 2 columns):\n",
      " #   Column        Non-Null Count  Dtype \n",
      "---  ------        --------------  ----- \n",
      " 0   company_name  64 non-null     object\n",
      " 1   trips_amount  64 non-null     int64 \n",
      "dtypes: int64(1), object(1)\n",
      "memory usage: 1.1+ KB\n"
     ]
    }
   ],
   "source": [
    "df_result1.info()\n"
   ]
  },
  {
   "cell_type": "code",
   "execution_count": 12,
   "metadata": {},
   "outputs": [
    {
     "data": {
      "text/html": [
       "<div>\n",
       "<style scoped>\n",
       "    .dataframe tbody tr th:only-of-type {\n",
       "        vertical-align: middle;\n",
       "    }\n",
       "\n",
       "    .dataframe tbody tr th {\n",
       "        vertical-align: top;\n",
       "    }\n",
       "\n",
       "    .dataframe thead th {\n",
       "        text-align: right;\n",
       "    }\n",
       "</style>\n",
       "<table border=\"1\" class=\"dataframe\">\n",
       "  <thead>\n",
       "    <tr style=\"text-align: right;\">\n",
       "      <th></th>\n",
       "      <th>trips_amount</th>\n",
       "    </tr>\n",
       "  </thead>\n",
       "  <tbody>\n",
       "    <tr>\n",
       "      <th>count</th>\n",
       "      <td>64.000000</td>\n",
       "    </tr>\n",
       "    <tr>\n",
       "      <th>mean</th>\n",
       "      <td>2145.484375</td>\n",
       "    </tr>\n",
       "    <tr>\n",
       "      <th>std</th>\n",
       "      <td>3812.310186</td>\n",
       "    </tr>\n",
       "    <tr>\n",
       "      <th>min</th>\n",
       "      <td>2.000000</td>\n",
       "    </tr>\n",
       "    <tr>\n",
       "      <th>25%</th>\n",
       "      <td>20.750000</td>\n",
       "    </tr>\n",
       "    <tr>\n",
       "      <th>50%</th>\n",
       "      <td>178.500000</td>\n",
       "    </tr>\n",
       "    <tr>\n",
       "      <th>75%</th>\n",
       "      <td>2106.500000</td>\n",
       "    </tr>\n",
       "    <tr>\n",
       "      <th>max</th>\n",
       "      <td>19558.000000</td>\n",
       "    </tr>\n",
       "  </tbody>\n",
       "</table>\n",
       "</div>"
      ],
      "text/plain": [
       "       trips_amount\n",
       "count     64.000000\n",
       "mean    2145.484375\n",
       "std     3812.310186\n",
       "min        2.000000\n",
       "25%       20.750000\n",
       "50%      178.500000\n",
       "75%     2106.500000\n",
       "max    19558.000000"
      ]
     },
     "execution_count": 12,
     "metadata": {},
     "output_type": "execute_result"
    }
   ],
   "source": [
    "df_result1.describe()"
   ]
  },
  {
   "cell_type": "code",
   "execution_count": 13,
   "metadata": {},
   "outputs": [
    {
     "data": {
      "text/plain": [
       "company_name    0\n",
       "trips_amount    0\n",
       "dtype: int64"
      ]
     },
     "execution_count": 13,
     "metadata": {},
     "output_type": "execute_result"
    }
   ],
   "source": [
    "df_result1.isnull().sum()    "
   ]
  },
  {
   "cell_type": "markdown",
   "metadata": {},
   "source": [
    "Se exploran los datos y se observa que tanto el tipo de datos y se verifica que no existan nulos."
   ]
  },
  {
   "cell_type": "markdown",
   "metadata": {},
   "source": [
    "<h2>Datos / Destino final por viaje</h2>"
   ]
  },
  {
   "cell_type": "code",
   "execution_count": 14,
   "metadata": {},
   "outputs": [
    {
     "name": "stdout",
     "output_type": "stream",
     "text": [
      "<class 'pandas.core.frame.DataFrame'>\n",
      "RangeIndex: 94 entries, 0 to 93\n",
      "Data columns (total 2 columns):\n",
      " #   Column                 Non-Null Count  Dtype  \n",
      "---  ------                 --------------  -----  \n",
      " 0   dropoff_location_name  94 non-null     object \n",
      " 1   average_trips          94 non-null     float64\n",
      "dtypes: float64(1), object(1)\n",
      "memory usage: 1.6+ KB\n"
     ]
    }
   ],
   "source": [
    "df_result4.info()"
   ]
  },
  {
   "cell_type": "code",
   "execution_count": 15,
   "metadata": {},
   "outputs": [
    {
     "data": {
      "text/html": [
       "<div>\n",
       "<style scoped>\n",
       "    .dataframe tbody tr th:only-of-type {\n",
       "        vertical-align: middle;\n",
       "    }\n",
       "\n",
       "    .dataframe tbody tr th {\n",
       "        vertical-align: top;\n",
       "    }\n",
       "\n",
       "    .dataframe thead th {\n",
       "        text-align: right;\n",
       "    }\n",
       "</style>\n",
       "<table border=\"1\" class=\"dataframe\">\n",
       "  <thead>\n",
       "    <tr style=\"text-align: right;\">\n",
       "      <th></th>\n",
       "      <th>average_trips</th>\n",
       "    </tr>\n",
       "  </thead>\n",
       "  <tbody>\n",
       "    <tr>\n",
       "      <th>count</th>\n",
       "      <td>94.000000</td>\n",
       "    </tr>\n",
       "    <tr>\n",
       "      <th>mean</th>\n",
       "      <td>599.953728</td>\n",
       "    </tr>\n",
       "    <tr>\n",
       "      <th>std</th>\n",
       "      <td>1714.591098</td>\n",
       "    </tr>\n",
       "    <tr>\n",
       "      <th>min</th>\n",
       "      <td>1.800000</td>\n",
       "    </tr>\n",
       "    <tr>\n",
       "      <th>25%</th>\n",
       "      <td>14.266667</td>\n",
       "    </tr>\n",
       "    <tr>\n",
       "      <th>50%</th>\n",
       "      <td>52.016667</td>\n",
       "    </tr>\n",
       "    <tr>\n",
       "      <th>75%</th>\n",
       "      <td>298.858333</td>\n",
       "    </tr>\n",
       "    <tr>\n",
       "      <th>max</th>\n",
       "      <td>10727.466667</td>\n",
       "    </tr>\n",
       "  </tbody>\n",
       "</table>\n",
       "</div>"
      ],
      "text/plain": [
       "       average_trips\n",
       "count      94.000000\n",
       "mean      599.953728\n",
       "std      1714.591098\n",
       "min         1.800000\n",
       "25%        14.266667\n",
       "50%        52.016667\n",
       "75%       298.858333\n",
       "max     10727.466667"
      ]
     },
     "execution_count": 15,
     "metadata": {},
     "output_type": "execute_result"
    }
   ],
   "source": [
    "df_result4.describe()"
   ]
  },
  {
   "cell_type": "code",
   "execution_count": 16,
   "metadata": {},
   "outputs": [
    {
     "data": {
      "text/plain": [
       "dropoff_location_name    0\n",
       "average_trips            0\n",
       "dtype: int64"
      ]
     },
     "execution_count": 16,
     "metadata": {},
     "output_type": "execute_result"
    }
   ],
   "source": [
    "df_result4.isnull().sum()"
   ]
  },
  {
   "cell_type": "markdown",
   "metadata": {},
   "source": [
    "Se exploran los datos y se observa que tanto el tipo de datos y se verifica que no existan nulos."
   ]
  },
  {
   "cell_type": "markdown",
   "metadata": {},
   "source": [
    "<h2>Datos / llegada de Loop al aeropueto de O'Hare</h2>"
   ]
  },
  {
   "cell_type": "code",
   "execution_count": 17,
   "metadata": {},
   "outputs": [
    {
     "name": "stdout",
     "output_type": "stream",
     "text": [
      "<class 'pandas.core.frame.DataFrame'>\n",
      "RangeIndex: 1068 entries, 0 to 1067\n",
      "Data columns (total 3 columns):\n",
      " #   Column              Non-Null Count  Dtype  \n",
      "---  ------              --------------  -----  \n",
      " 0   start_ts            1068 non-null   object \n",
      " 1   weather_conditions  1068 non-null   object \n",
      " 2   duration_seconds    1068 non-null   float64\n",
      "dtypes: float64(1), object(2)\n",
      "memory usage: 25.2+ KB\n"
     ]
    }
   ],
   "source": [
    "df_result7.info()\n"
   ]
  },
  {
   "cell_type": "code",
   "execution_count": 18,
   "metadata": {},
   "outputs": [
    {
     "data": {
      "text/html": [
       "<div>\n",
       "<style scoped>\n",
       "    .dataframe tbody tr th:only-of-type {\n",
       "        vertical-align: middle;\n",
       "    }\n",
       "\n",
       "    .dataframe tbody tr th {\n",
       "        vertical-align: top;\n",
       "    }\n",
       "\n",
       "    .dataframe thead th {\n",
       "        text-align: right;\n",
       "    }\n",
       "</style>\n",
       "<table border=\"1\" class=\"dataframe\">\n",
       "  <thead>\n",
       "    <tr style=\"text-align: right;\">\n",
       "      <th></th>\n",
       "      <th>duration_seconds</th>\n",
       "    </tr>\n",
       "  </thead>\n",
       "  <tbody>\n",
       "    <tr>\n",
       "      <th>count</th>\n",
       "      <td>1068.000000</td>\n",
       "    </tr>\n",
       "    <tr>\n",
       "      <th>mean</th>\n",
       "      <td>2071.731273</td>\n",
       "    </tr>\n",
       "    <tr>\n",
       "      <th>std</th>\n",
       "      <td>769.461125</td>\n",
       "    </tr>\n",
       "    <tr>\n",
       "      <th>min</th>\n",
       "      <td>0.000000</td>\n",
       "    </tr>\n",
       "    <tr>\n",
       "      <th>25%</th>\n",
       "      <td>1438.250000</td>\n",
       "    </tr>\n",
       "    <tr>\n",
       "      <th>50%</th>\n",
       "      <td>1980.000000</td>\n",
       "    </tr>\n",
       "    <tr>\n",
       "      <th>75%</th>\n",
       "      <td>2580.000000</td>\n",
       "    </tr>\n",
       "    <tr>\n",
       "      <th>max</th>\n",
       "      <td>7440.000000</td>\n",
       "    </tr>\n",
       "  </tbody>\n",
       "</table>\n",
       "</div>"
      ],
      "text/plain": [
       "       duration_seconds\n",
       "count       1068.000000\n",
       "mean        2071.731273\n",
       "std          769.461125\n",
       "min            0.000000\n",
       "25%         1438.250000\n",
       "50%         1980.000000\n",
       "75%         2580.000000\n",
       "max         7440.000000"
      ]
     },
     "execution_count": 18,
     "metadata": {},
     "output_type": "execute_result"
    }
   ],
   "source": [
    "df_result7.describe()"
   ]
  },
  {
   "cell_type": "code",
   "execution_count": 19,
   "metadata": {},
   "outputs": [
    {
     "data": {
      "text/plain": [
       "start_ts              0\n",
       "weather_conditions    0\n",
       "duration_seconds      0\n",
       "dtype: int64"
      ]
     },
     "execution_count": 19,
     "metadata": {},
     "output_type": "execute_result"
    }
   ],
   "source": [
    "df_result7.isnull().sum()"
   ]
  },
  {
   "cell_type": "code",
   "execution_count": 20,
   "metadata": {},
   "outputs": [
    {
     "data": {
      "text/html": [
       "<div>\n",
       "<style scoped>\n",
       "    .dataframe tbody tr th:only-of-type {\n",
       "        vertical-align: middle;\n",
       "    }\n",
       "\n",
       "    .dataframe tbody tr th {\n",
       "        vertical-align: top;\n",
       "    }\n",
       "\n",
       "    .dataframe thead th {\n",
       "        text-align: right;\n",
       "    }\n",
       "</style>\n",
       "<table border=\"1\" class=\"dataframe\">\n",
       "  <thead>\n",
       "    <tr style=\"text-align: right;\">\n",
       "      <th></th>\n",
       "      <th>start_ts</th>\n",
       "      <th>weather_conditions</th>\n",
       "      <th>duration_seconds</th>\n",
       "      <th>day</th>\n",
       "      <th>minutes</th>\n",
       "    </tr>\n",
       "  </thead>\n",
       "  <tbody>\n",
       "    <tr>\n",
       "      <th>0</th>\n",
       "      <td>2017-11-25 16:00:00</td>\n",
       "      <td>Good</td>\n",
       "      <td>2410.0</td>\n",
       "      <td>Saturday</td>\n",
       "      <td>40.166667</td>\n",
       "    </tr>\n",
       "    <tr>\n",
       "      <th>1</th>\n",
       "      <td>2017-11-25 14:00:00</td>\n",
       "      <td>Good</td>\n",
       "      <td>1920.0</td>\n",
       "      <td>Saturday</td>\n",
       "      <td>32.000000</td>\n",
       "    </tr>\n",
       "    <tr>\n",
       "      <th>2</th>\n",
       "      <td>2017-11-25 12:00:00</td>\n",
       "      <td>Good</td>\n",
       "      <td>1543.0</td>\n",
       "      <td>Saturday</td>\n",
       "      <td>25.716667</td>\n",
       "    </tr>\n",
       "    <tr>\n",
       "      <th>3</th>\n",
       "      <td>2017-11-04 10:00:00</td>\n",
       "      <td>Good</td>\n",
       "      <td>2512.0</td>\n",
       "      <td>Saturday</td>\n",
       "      <td>41.866667</td>\n",
       "    </tr>\n",
       "    <tr>\n",
       "      <th>4</th>\n",
       "      <td>2017-11-11 07:00:00</td>\n",
       "      <td>Good</td>\n",
       "      <td>1440.0</td>\n",
       "      <td>Saturday</td>\n",
       "      <td>24.000000</td>\n",
       "    </tr>\n",
       "    <tr>\n",
       "      <th>...</th>\n",
       "      <td>...</td>\n",
       "      <td>...</td>\n",
       "      <td>...</td>\n",
       "      <td>...</td>\n",
       "      <td>...</td>\n",
       "    </tr>\n",
       "    <tr>\n",
       "      <th>1063</th>\n",
       "      <td>2017-11-25 11:00:00</td>\n",
       "      <td>Good</td>\n",
       "      <td>0.0</td>\n",
       "      <td>Saturday</td>\n",
       "      <td>0.000000</td>\n",
       "    </tr>\n",
       "    <tr>\n",
       "      <th>1064</th>\n",
       "      <td>2017-11-11 10:00:00</td>\n",
       "      <td>Good</td>\n",
       "      <td>1318.0</td>\n",
       "      <td>Saturday</td>\n",
       "      <td>21.966667</td>\n",
       "    </tr>\n",
       "    <tr>\n",
       "      <th>1065</th>\n",
       "      <td>2017-11-11 13:00:00</td>\n",
       "      <td>Good</td>\n",
       "      <td>2100.0</td>\n",
       "      <td>Saturday</td>\n",
       "      <td>35.000000</td>\n",
       "    </tr>\n",
       "    <tr>\n",
       "      <th>1066</th>\n",
       "      <td>2017-11-11 08:00:00</td>\n",
       "      <td>Good</td>\n",
       "      <td>1380.0</td>\n",
       "      <td>Saturday</td>\n",
       "      <td>23.000000</td>\n",
       "    </tr>\n",
       "    <tr>\n",
       "      <th>1067</th>\n",
       "      <td>2017-11-04 16:00:00</td>\n",
       "      <td>Bad</td>\n",
       "      <td>2834.0</td>\n",
       "      <td>Saturday</td>\n",
       "      <td>47.233333</td>\n",
       "    </tr>\n",
       "  </tbody>\n",
       "</table>\n",
       "<p>1068 rows × 5 columns</p>\n",
       "</div>"
      ],
      "text/plain": [
       "                start_ts weather_conditions  duration_seconds       day  \\\n",
       "0    2017-11-25 16:00:00               Good            2410.0  Saturday   \n",
       "1    2017-11-25 14:00:00               Good            1920.0  Saturday   \n",
       "2    2017-11-25 12:00:00               Good            1543.0  Saturday   \n",
       "3    2017-11-04 10:00:00               Good            2512.0  Saturday   \n",
       "4    2017-11-11 07:00:00               Good            1440.0  Saturday   \n",
       "...                  ...                ...               ...       ...   \n",
       "1063 2017-11-25 11:00:00               Good               0.0  Saturday   \n",
       "1064 2017-11-11 10:00:00               Good            1318.0  Saturday   \n",
       "1065 2017-11-11 13:00:00               Good            2100.0  Saturday   \n",
       "1066 2017-11-11 08:00:00               Good            1380.0  Saturday   \n",
       "1067 2017-11-04 16:00:00                Bad            2834.0  Saturday   \n",
       "\n",
       "        minutes  \n",
       "0     40.166667  \n",
       "1     32.000000  \n",
       "2     25.716667  \n",
       "3     41.866667  \n",
       "4     24.000000  \n",
       "...         ...  \n",
       "1063   0.000000  \n",
       "1064  21.966667  \n",
       "1065  35.000000  \n",
       "1066  23.000000  \n",
       "1067  47.233333  \n",
       "\n",
       "[1068 rows x 5 columns]"
      ]
     },
     "execution_count": 20,
     "metadata": {},
     "output_type": "execute_result"
    }
   ],
   "source": [
    "df_result7['start_ts'] = pd.to_datetime(df_result7['start_ts'])\n",
    "df_result7['day'] = df_result7['start_ts'].dt.strftime('%A')\n",
    "df_result7['minutes'] = df_result7['duration_seconds'] / 60\n",
    "df_result7"
   ]
  },
  {
   "cell_type": "markdown",
   "metadata": {},
   "source": [
    "Se exploran los datos y se encuentra que la columna start_ts es de tipo object tomando la decision de cambiar a tipo data time, asi mismo, para verificar que los datos sean del mismo dia se realiza la columna day con el nombre del dia y por ultimo la columna minutos, que transforma la duracion de los viajes de segundos a minutos."
   ]
  },
  {
   "cell_type": "code",
   "execution_count": 21,
   "metadata": {},
   "outputs": [
    {
     "data": {
      "image/png": "[encoded data removed]",
      "text/plain": [
       "<Figure size 720x432 with 1 Axes>"
      ]
     },
     "metadata": {
      "needs_background": "light"
     },
     "output_type": "display_data"
    }
   ],
   "source": [
    "\n",
    "top_location = (\n",
    "    df_result4\n",
    "    .groupby('dropoff_location_name')['average_trips']\n",
    "    .sum()\n",
    "    .sort_values(ascending=False)\n",
    "    .head(10)\n",
    ")\n",
    "\n",
    "ax = top_location.plot(kind='bar', figsize=(10, 6), width=0.8, color='skyblue')\n",
    "\n",
    "for p in ax.patches:\n",
    "    ax.annotate(f'{p.get_height():.2f}', (p.get_x() + p.get_width() / 2., p.get_height()), ha='center', va='bottom', fontsize=10)\n",
    "\n",
    "ax.set_xlabel('Ubicación')\n",
    "ax.set_ylabel('Viajes promedio')\n",
    "ax.set_title('Las 10 principales ubicaciones por viajes promedio', fontsize=14)\n",
    "\n",
    "plt.xticks(rotation=45)\n",
    "\n",
    "plt.tight_layout()\n",
    "\n",
    "plt.show()\n",
    "\n"
   ]
  },
  {
   "cell_type": "markdown",
   "metadata": {},
   "source": [
    "Se muestran los diez destinos con mayor relevancia entre los que destaca Loop y O´Hare los cuales tienen una preferencia esencial en los pasajeros que utilizan transporte, siendo esto, determinante para futuras conclusiones."
   ]
  },
  {
   "cell_type": "code",
   "execution_count": 22,
   "metadata": {},
   "outputs": [
    {
     "data": {
      "image/png": "[encoded data removed]",
      "text/plain": [
       "<Figure size 576x432 with 1 Axes>"
      ]
     },
     "metadata": {
      "needs_background": "light"
     },
     "output_type": "display_data"
    }
   ],
   "source": [
    "\n",
    "top_company_name = (\n",
    "    df_result1\n",
    "    .groupby('company_name')['trips_amount']\n",
    "    .sum()\n",
    "    .sort_values(ascending=False)\n",
    "    .head(10)\n",
    ")\n",
    "\n",
    "# Crear el gráfico de barras invertidas (horizontal bars)\n",
    "ax = top_company_name.plot(kind='barh', figsize=(8, 6), color='skyblue')\n",
    "\n",
    "# Añadir etiquetas de datos en las barras\n",
    "for p in ax.patches:\n",
    "    ax.annotate(f'{p.get_width():.0f}', (p.get_width(), p.get_y() + p.get_height() / 2.), ha='left', va='center', fontsize=10)\n",
    "\n",
    "# Configurar etiquetas de ejes y título\n",
    "ax.set_xlabel('Trips Amount')\n",
    "ax.set_ylabel('Company')\n",
    "ax.set_title('Trips Amount por Company', fontsize=14)\n",
    "\n",
    "# Mostrar el gráfico\n",
    "plt.tight_layout()\n",
    "plt.show()\n"
   ]
  },
  {
   "cell_type": "markdown",
   "metadata": {},
   "source": [
    "Entre las empresas con mayor movimiento en los destinos finales destacan  diez, las cuales podrian catalogarse como empresas lider en Chicago."
   ]
  },
  {
   "cell_type": "markdown",
   "metadata": {},
   "source": [
    "### Prueba de hipótesis (Python)"
   ]
  },
  {
   "cell_type": "markdown",
   "metadata": {},
   "source": [
    "Se explora la hipotesis explorando la varianza para determinar el test a realizar posteriormente."
   ]
  },
  {
   "cell_type": "code",
   "execution_count": 23,
   "metadata": {},
   "outputs": [
    {
     "name": "stdout",
     "output_type": "stream",
     "text": [
      "La varianza de condition bad es 143.72321202846365\n",
      "La varianza de condition good es 159.92581412493575\n",
      "La desviacion estandar de condition bad es 11.988461620594348\n",
      "La desviacion estandar de condition good es 12.646177846485307\n",
      "Estadístico de Levene: 0.3885348968365654\n",
      "Valor p: 0.5332038671974493\n",
      "Las varianzas son similares (homogéneas).\n",
      "Rechazamos la hipotesis nula : No hay confianza suficiente para determinar la igualdad de las medias\n"
     ]
    }
   ],
   "source": [
    "\n",
    "\n",
    "condition_bad = df_result7.query('weather_conditions == \"Bad\"')['minutes']\n",
    "condition_good = df_result7.query('weather_conditions == \"Good\"')['minutes']\n",
    "\n",
    "variance_bad = np.var(condition_bad, ddof=0)  # Varianza del conjunto \"Bad\"\n",
    "variance_good = np.var(condition_good, ddof=0)  # Varianza del conjunto \"Good\"\n",
    "desviacion_estandar_bad = np.sqrt(variance_bad)\n",
    "desviacion_estandar_good = np.sqrt(variance_good)\n",
    "\n",
    "statistic, p_value = stats.levene(condition_bad, condition_good)\n",
    "\n",
    "print(f'La varianza de condition bad es {variance_bad}')\n",
    "print(f'La varianza de condition good es {variance_good}')\n",
    "print(f'La desviacion estandar de condition bad es {desviacion_estandar_bad}')\n",
    "print(f'La desviacion estandar de condition good es {desviacion_estandar_good}')\n",
    "# Imprimir el resultado\n",
    "print(f\"Estadístico de Levene: {statistic}\")\n",
    "print(f\"Valor p: {p_value}\")\n",
    "\n",
    "alpha = 0.05  # Nivel de significancia\n",
    "\n",
    "if p_value < alpha:\n",
    "    print(\"Las varianzas son significativamente diferentes (no homogéneas).\")\n",
    "else:\n",
    "    print(\"Las varianzas son similares (homogéneas).\")\n",
    "\n",
    "#Hipotesis nula H0: La duracion promedio de los viajes desde \n",
    "# el Loop hasta el aeropuerto internacional O'Hare es igual los sabados lluviosos\n",
    "\n",
    "## Hipotesis alternativa H1:Ambas muestras tienen una distribución equitativa.\n",
    "\n",
    "t_stat,p_value = stats.ttest_ind(condition_bad,condition_good)\n",
    "\n",
    "if p_value < alpha:\n",
    "    print('Rechazamos la hipotesis nula : No hay confianza suficiente para determinar la igualdad de las medias')\n",
    "else:\n",
    "    print('No rechazamos la hipotesis nula: Las medias son iguales con un intervalo de confianza de 95')"
   ]
  },
  {
   "cell_type": "markdown",
   "metadata": {},
   "source": [
    "Se realizó la prueba de Levene para evaluar la homogeneidad de las varianzas, con el propósito de determinar la prueba estadística más adecuada para el análisis posterior. El resultado de la prueba de Levene indicó que las varianzas entre los grupos no tiene una diferencia significativa misma que se corroboro calculando la varianza y la propia desviacion estandar. Por lo tanto, se optó por proceder con una prueba t estándar en lugar de la prueba t de Welch, ya que la homogeneidad de las varianzas hace que la prueba t estándar sea la opción preferida.\n",
    "\n",
    "Además, los resultados de la prueba t mostraron un rechazo de la hipótesis nula. Esto respalda la hipótesis alternativa y demuestra que, en efecto, la duración promedio de los viajes desde el Loop hasta el aeropuerto internacional O'Hare es diferente en los sábados con condiciones climáticas adversas. En resumen, los datos respaldan la afirmación de que hay una diferencia significativa en la duración de los viajes los sábados lluviosos."
   ]
  },
  {
   "cell_type": "markdown",
   "metadata": {},
   "source": [
    " ### Conclusión General\n",
    "\n",
    "- [Análisis exploratorio de datos](#Análisis-exploratorio-de-datos)\n",
    "\n",
    "Durante el análisis exploratorio se verificó que los data frames cumplieran adecuadamente con los formatos para el desarrollo del análisis , encontranto muy pocos datos nulos, la corrección de un tipo de datos a datatime y el enriquecimiento de un data frame con información que se pensó que sería útil solamente para corroborar.\n",
    "\n",
    "Las conclusiones en cuanto al destino final por promedio de viajes,determinó que Loop es una de las localidades con mayor movimiento seguida de River North, StreetVille , West Loop y O´Hare, lo cual sugiere que de los viajes que tienen las diferentes empresas se tiende a llegar a uno de los cinco lugares mencionados anteriormente.\n",
    "\n",
    "Dicho resultado anterior, tiene una repercusión si se toma en cuenta el gráfico de las empresas con mayor movimiento , dado a que, entre las empresas con mayor número de viajes esta Flash Cab, Taxi afiliation y Medallion Leasin, las cuales mantienen un numero promedio de viajes altamente significativo respecto al resto.\n",
    "\n",
    "- [Prueba de hipótesis (Python)](#Prueba-de-hipótesis-(Python))\n",
    "\n",
    "Tras verificar que el número de muestras en cuanto a los viajes con lluvia entre los que no, se propuso realizar una prueba Levene para verificr la homogeneidad de las varianzas a fin de determinar el proceso posterior, siendo este la prueba de t estandar a fin que se incorporar de mejor manera  alas condiciones.\n",
    "\n",
    "- [Conclusión General](#Conclusión-General)\n",
    "\n",
    "De acuerdo a los datos se puede presentar que entre los destinos con mayor relevancia para el estudio es Loop lo cual muestra viajes altamente significativos respecto al resto, así como , l empresa Flash Cab, teniendo en cuenta que los viajes en la lluvia pueden variar casí el doble del tiempo de un viaje normal, mismo que se nota en la conversión de segundos a minutos, demostrando que la hípotesis demuestra un grado de significancia adecuada.\n",
    "\n",
    " "
   ]
  }
 ],
 "metadata": {
  "kernelspec": {
   "display_name": "Python 3 (ipykernel)",
   "language": "python",
   "name": "python3"
  },
  "language_info": {
   "codemirror_mode": {
    "name": "ipython",
    "version": 3
   },
   "file_extension": ".py",
   "mimetype": "text/x-python",
   "name": "python",
   "nbconvert_exporter": "python",
   "pygments_lexer": "ipython3",
   "version": "3.9.5"
  },
  "toc": {
   "base_numbering": 1,
   "nav_menu": {},
   "number_sections": true,
   "sideBar": true,
   "skip_h1_title": true,
   "title_cell": "Table of Contents",
   "title_sidebar": "Contents",
   "toc_cell": false,
   "toc_position": {},
   "toc_section_display": true,
   "toc_window_display": false
  }
 },
 "nbformat": 4,
 "nbformat_minor": 2
}
